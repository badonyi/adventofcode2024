{
  "nbformat": 4,
  "nbformat_minor": 0,
  "metadata": {
    "colab": {
      "private_outputs": true,
      "provenance": [],
      "authorship_tag": "ABX9TyOOmhMj803DNBo1AfPUTw03",
      "include_colab_link": true
    },
    "kernelspec": {
      "name": "ir",
      "display_name": "R"
    },
    "language_info": {
      "name": "R"
    }
  },
  "cells": [
    {
      "cell_type": "markdown",
      "metadata": {
        "id": "view-in-github",
        "colab_type": "text"
      },
      "source": [
        "<a href=\"https://colab.research.google.com/github/badonyi/adventofcode2024/blob/main/aov2024_R.ipynb\" target=\"_parent\"><img src=\"https://colab.research.google.com/assets/colab-badge.svg\" alt=\"Open In Colab\"/></a>"
      ]
    },
    {
      "cell_type": "markdown",
      "source": [
        "## Run this chunk before any of the daily challenges"
      ],
      "metadata": {
        "id": "Lqf8ee64FRUS"
      }
    },
    {
      "cell_type": "code",
      "source": [
        "options(scipen = 999)\n",
        "get_data <- function(x) sprintf('https://raw.githubusercontent.com/badonyi/adventofcode2024/refs/heads/main/data/%s.txt', x)"
      ],
      "metadata": {
        "id": "7LAZ4S2bFF4a"
      },
      "execution_count": null,
      "outputs": []
    },
    {
      "cell_type": "markdown",
      "source": [
        "## Day 1"
      ],
      "metadata": {
        "id": "EzaC6i_qDM04"
      }
    },
    {
      "cell_type": "code",
      "execution_count": null,
      "metadata": {
        "collapsed": true,
        "id": "iHbnLeSiDDwx"
      },
      "outputs": [],
      "source": [
        "input <- read.table(get_data('day_1'))\n",
        "\n",
        "# part 1\n",
        "sum(abs(sort(input$V1) - sort(input$V2)))\n",
        "\n",
        "# part 2\n",
        "sum(outer(input$V1, input$V2, `==`) * input$V1)"
      ]
    },
    {
      "cell_type": "markdown",
      "source": [
        "## Day 2"
      ],
      "metadata": {
        "id": "PMQmaLcoE64G"
      }
    },
    {
      "cell_type": "code",
      "source": [
        "input <- sapply(strsplit(readLines(get_data('day_2')), ' '), as.integer)\n",
        "\n",
        "# part 1\n",
        "sum(sapply(input, function(x) {\n",
        "  d <- diff(x); all(abs(d) < 4) && (all(d < 0) || all(d > 0))\n",
        "}))\n",
        "\n",
        "# part 2\n",
        "sum(sapply(input, function(x) {\n",
        "  any(sapply(seq_along(x), function(i) {\n",
        "    d <- diff(x[-i]); all(abs(d) < 4) && (all(d < 0) || all(d > 0))\n",
        "  }))\n",
        "}))\n"
      ],
      "metadata": {
        "id": "Mu_puCiUFAAZ"
      },
      "execution_count": null,
      "outputs": []
    },
    {
      "cell_type": "markdown",
      "source": [
        "## Day 3"
      ],
      "metadata": {
        "id": "KpYpmSqoGG5q"
      }
    },
    {
      "cell_type": "code",
      "source": [
        "input <- paste(readLines(get_data('day_3')), collapse = '')\n",
        "pat <- 'mul\\\\((\\\\d+),(\\\\d+)\\\\)'\n",
        "mul_compute <- function(s) {\n",
        "  eval(parse(text = paste(\n",
        "    gsub(pat, '\\\\1*\\\\2', regmatches(s, gregexpr(pat, s))[[1]]), collapse = '+'\n",
        "  )))\n",
        "}\n",
        "\n",
        "# part 1\n",
        "mul_compute(input)\n",
        "\n",
        "# part 2\n",
        "donts <- strsplit(input, \"don't\\\\(\\\\)\")[[1]]\n",
        "dos <- unlist(lapply(donts[-1], function(x) strsplit(x, 'do\\\\(\\\\)')[[1]][-1]))\n",
        "mul_compute(paste(c(donts[1], dos), collapse = ''))"
      ],
      "metadata": {
        "id": "fMpbw4I5GJYS"
      },
      "execution_count": null,
      "outputs": []
    },
    {
      "cell_type": "markdown",
      "source": [
        "## Day 4"
      ],
      "metadata": {
        "id": "36Lm9Pg3GQq5"
      }
    },
    {
      "cell_type": "code",
      "source": [
        "mat <- do.call(rbind, strsplit(readLines(get_data('day_4')), NULL))\n",
        "has_xmas <- function(x) paste(x, collapse = '') %in% c('XMAS', 'SAMX')\n",
        "\n",
        "# part 1\n",
        "n <- nrow(mat)\n",
        "count <- 0\n",
        "for (j in seq(n)) {\n",
        "  for (i in seq(n)) {\n",
        "    if (i <= n - 3) {\n",
        "      count <- count + has_xmas(mat[j, i:(i + 3)])\n",
        "      if (j < n - 2) count <- count + has_xmas(diag(mat[j:(j + 3), i:(i + 3)]))\n",
        "      if (j > 3) count <- count + has_xmas(diag(mat[j:(j - 3), i:(i + 3)]))\n",
        "    }\n",
        "    if (j < n - 2) count <- count + has_xmas(mat[j:(j + 3), i])\n",
        "  }\n",
        "}\n",
        "cat(count)\n",
        "\n",
        "# part 2\n",
        "sum(apply(\n",
        "  X = expand.grid(seq(n), seq(n)),\n",
        "  MARGIN = 1,\n",
        "  FUN = function(g) {\n",
        "    a <- g[1]\n",
        "    b <- g[2]\n",
        "    if (a > 1 && a < n && b > 1 && b <  n) {\n",
        "      return(as.numeric(\n",
        "        paste0(mat[a - 1, b - 1], mat[a - 1, b + 1],\n",
        "               mat[a, b], mat[a + 1, b - 1],\n",
        "               mat[a + 1, b + 1]) %in% c('SMASM', 'MSAMS', 'MMASS', 'SSAMM')))\n",
        "    }\n",
        "    return(0)\n",
        "  }\n",
        "))"
      ],
      "metadata": {
        "id": "_hAH6qsWGUn1"
      },
      "execution_count": null,
      "outputs": []
    },
    {
      "cell_type": "markdown",
      "source": [
        "## Day 5"
      ],
      "metadata": {
        "id": "kKg3O1tHIvHW"
      }
    },
    {
      "cell_type": "code",
      "source": [
        "input <- readLines(get_data('day_5'))\n",
        "sep <- which(input == '')\n",
        "updates <- strsplit(input[(sep + 1):length(input)], ',')\n",
        "pairs <- read.table(text = input[1:(sep - 1)], sep = '|')\n",
        "\n",
        "is_correct <- function(update, pairs) {\n",
        "  for (i in 1:nrow(pairs)) {\n",
        "    if (pairs$V1[i] %in% update && pairs$V2[i] %in% update) {\n",
        "      if (which(update == pairs$V1[i]) > which(update == pairs$V2[i])) {\n",
        "        return(FALSE)\n",
        "      }\n",
        "    }\n",
        "  }\n",
        "  return(TRUE)\n",
        "}\n",
        "\n",
        "# part 1\n",
        "sum(sapply(updates[sapply(updates, is_correct, pairs)],\n",
        "           function(x) as.numeric(x[ceiling(length(x) / 2)])))\n",
        "\n",
        "# part 2\n",
        "correct_order <- function(update, pairs) {\n",
        "  swap <- TRUE\n",
        "  while (swap) {\n",
        "    swap <- FALSE\n",
        "    for (i in 1:nrow(pairs)) {\n",
        "      if (pairs$V1[i] %in% update && pairs$V2[i] %in% update) {\n",
        "        b_index <- which(update == pairs$V1[i])\n",
        "        a_index <- which(update == pairs$V2[i])\n",
        "        if (b_index > a_index) {\n",
        "          update[c(a_index, b_index)] <- update[c(b_index, a_index)]\n",
        "          swap <- TRUE\n",
        "        }\n",
        "      }\n",
        "    }\n",
        "  }\n",
        "  return(update)\n",
        "}\n",
        "\n",
        "updates_wrong <- updates[!sapply(updates, is_correct, pairs)]\n",
        "updates_right <- lapply(updates_wrong, correct_order, pairs)\n",
        "sum(sapply(updates_right, function(x) as.numeric(x[ceiling(length(x) / 2)])))"
      ],
      "metadata": {
        "id": "v4ex8k-qIwc1"
      },
      "execution_count": null,
      "outputs": []
    },
    {
      "cell_type": "markdown",
      "source": [
        "## Day 6"
      ],
      "metadata": {
        "id": "DaC-TtxDiIWE"
      }
    },
    {
      "cell_type": "code",
      "source": [
        "input <- do.call(rbind, strsplit(readLines(get_data('day_6')), NULL))\n",
        "start <- which(input == '^', arr.ind = TRUE)\n",
        "dirs <- list(c(-1, 0), c(0, 1), c(1, 0), c(0, -1))\n",
        "cache <- new.env(hash = TRUE, parent = emptyenv())\n",
        "\n",
        "explore_grid <- function(grid, cur_pos, obstacle = NULL) {\n",
        "  state <- if (!is.null(obstacle)) {\n",
        "     paste(obstacle[1], obstacle[2], sep = ',')\n",
        "  } else {\n",
        "    'init'\n",
        "  }\n",
        "\n",
        "  if (exists(state, envir = cache)) return(get(state, envir = cache))\n",
        "  if (!is.null(obstacle)) grid[obstacle[1], obstacle[2]] <- '#'\n",
        "\n",
        "  visited <- matrix(0, nrow = nrow(grid), ncol = ncol(grid))\n",
        "  cur_dir <- 1\n",
        "  visited[cur_pos[1], cur_pos[2]] <- cur_dir\n",
        "\n",
        "  while (TRUE) {\n",
        "    new_pos <- cur_pos + dirs[[cur_dir]]\n",
        "    if (new_pos[1] < 1 || new_pos[1] > nrow(grid) ||\n",
        "        new_pos[2] < 1 || new_pos[2] > ncol(grid)) {\n",
        "      result <- if (is.null(obstacle)) visited else FALSE\n",
        "      assign(state, result, envir = cache)\n",
        "      return(result)\n",
        "    }\n",
        "\n",
        "    if (grid[new_pos[1], new_pos[2]] == '#') {\n",
        "      cur_dir <- (cur_dir %% 4) + 1\n",
        "    } else {\n",
        "      if (visited[new_pos[1], new_pos[2]] == cur_dir) {\n",
        "        result <- if (is.null(obstacle)) visited else TRUE\n",
        "        assign(state, result, envir = cache)\n",
        "        return(result)\n",
        "      }\n",
        "      visited[new_pos[1], new_pos[2]] <- cur_dir\n",
        "      cur_pos <- new_pos\n",
        "    }\n",
        "  }\n",
        "}\n",
        "\n",
        "# part 1\n",
        "sum(explore_grid(input, start) != 0)\n",
        "\n",
        "# part 2\n",
        "all_loc <- which(input == '.', arr.ind = TRUE)\n",
        "loop_count <- 0\n",
        "pb <- txtProgressBar(min = 0, max = nrow(all_loc), style = 3)\n",
        "for (i in seq_len(nrow(all_loc))) {\n",
        "  loop_count <- loop_count + explore_grid(input, start, all_loc[i, ])\n",
        "  setTxtProgressBar(pb, i)\n",
        "}\n",
        "close(pb)\n",
        "loop_count"
      ],
      "metadata": {
        "id": "AFd2JoD-iK08"
      },
      "execution_count": null,
      "outputs": []
    },
    {
      "cell_type": "markdown",
      "source": [
        "## Day 7"
      ],
      "metadata": {
        "id": "qd5HZF3A3OLQ"
      }
    },
    {
      "cell_type": "code",
      "source": [
        "permutations <- function(n, r, v, repeats.allowed = FALSE) {\n",
        "  if (r == 0) return(matrix(nrow = 1, ncol = 0))\n",
        "  if (r == 1) return(matrix(v, ncol = 1))\n",
        "\n",
        "  result <- NULL\n",
        "  for (i in seq_along(v)) {\n",
        "    if (repeats.allowed || !(v[i] %in% v[1:(i - 1)])) {\n",
        "      sub_perms <- permutations(n, r - 1, v, repeats.allowed)\n",
        "      perms <- cbind(matrix(v[i], nrow = nrow(sub_perms), ncol = 1), sub_perms)\n",
        "      result <- rbind(result, perms)\n",
        "    }\n",
        "  }\n",
        "  return(result)\n",
        "}\n",
        "\n",
        "run_ops <- function(test_val, num_val, ops) {\n",
        "  eval_ops <- function(current, remaining, test_val) {\n",
        "    if (length(remaining) == 0) return(current == test_val)\n",
        "\n",
        "    for (op in ops) {\n",
        "      next_num <- remaining[1]\n",
        "      new_current <- switch(op,\n",
        "                            '+' = current + next_num,\n",
        "                            '*' = current * next_num,\n",
        "                            '||' = as.numeric(paste0(current, next_num)))\n",
        "      if (eval_ops(new_current, remaining[-1], test_val)) return(TRUE)\n",
        "    }\n",
        "    return(FALSE)\n",
        "  }\n",
        "\n",
        "  if (length(num_val) == 1) return(ifelse(test_val == num_val[1], test_val, 0))\n",
        "  if (eval_ops(num_val[1], num_val[-1], test_val)) return(test_val)\n",
        "  return(0)\n",
        "}\n",
        "\n",
        "input <- strsplit(readLines(get_data('day_7')), ': ')\n",
        "test_val <- as.numeric(sapply(input, `[`, 1))\n",
        "num_val <- lapply(sapply(input, `[`, 2), function(x) {\n",
        "  as.numeric(strsplit(x, ' ')[[1]])\n",
        "})\n",
        "\n",
        "# part 1\n",
        "sum(sapply(seq_along(test_val), function(i) {\n",
        "  run_ops(test_val[i], num_val[[i]], c('+', '*'))\n",
        "}))\n",
        "\n",
        "# part 2\n",
        "sum(sapply(seq_along(test_val), function(i) {\n",
        "  run_ops(test_val[i], num_val[[i]], c('+', '*', '||'))\n",
        "}))"
      ],
      "metadata": {
        "id": "-jcnwL2a3PCP"
      },
      "execution_count": null,
      "outputs": []
    },
    {
      "cell_type": "markdown",
      "source": [
        "## Day 8"
      ],
      "metadata": {
        "id": "eVA23CcUOHNW"
      }
    },
    {
      "cell_type": "code",
      "source": [
        "input <- readLines(get_data('day_8'))\n",
        "mat <- do.call(rbind, strsplit(input, ''))\n",
        "antennae <- unique(mat[mat != '.'])\n",
        "\n",
        "get_antinode <- function(mat, freq, extend = FALSE) {\n",
        "  pos <- which(mat == freq, arr.ind = TRUE)\n",
        "  if (nrow(pos) < 2) return(matrix(NA, nrow = 0, ncol = 2))\n",
        "  combs <- combn(seq_len(nrow(pos)), 2)\n",
        "\n",
        "  results <- NULL\n",
        "  for (i in seq_len(ncol(combs))) {\n",
        "    pos1 <- pos[combs[1, i], ]\n",
        "    pos2 <- pos[combs[2, i], ]\n",
        "    dist <- pos1 - pos2\n",
        "\n",
        "    if (extend) {\n",
        "      for (k in seq(0, ncol(mat))) {\n",
        "        results <- rbind(results, pos1 + k * dist, pos2 - k * dist)\n",
        "      }\n",
        "    } else {\n",
        "      results <- rbind(results, pos1 + dist, pos2 - dist)\n",
        "    }\n",
        "  }\n",
        "\n",
        "  unique(results[results[, 1] > 0 & results[, 1] <= nrow(mat) &\n",
        "                 results[, 2] > 0 & results[, 2] <= ncol(mat), ])\n",
        "}\n",
        "\n",
        "# part 1\n",
        "nrow(unique(do.call(\n",
        "  rbind, lapply(antennae, function(freq)\n",
        "    get_antinode(mat, freq, extend = FALSE))\n",
        ")))\n",
        "\n",
        "# part 2\n",
        "nrow(unique(do.call(\n",
        "  rbind, lapply(antennae, function(freq)\n",
        "    get_antinode(mat, freq, extend = TRUE))\n",
        ")))"
      ],
      "metadata": {
        "id": "e_IW7vhQOI5V"
      },
      "execution_count": null,
      "outputs": []
    },
    {
      "cell_type": "markdown",
      "source": [
        "## Day 9"
      ],
      "metadata": {
        "id": "uoWYQkvibyNm"
      }
    },
    {
      "cell_type": "code",
      "source": [
        "input <- readLines(get_data('day_9'))\n",
        "\n",
        "# part 1\n",
        "digits <- as.numeric(strsplit(input, '')[[1]])\n",
        "ids <- (seq(digits) - 1) / 2\n",
        "disk_long <- ids[rep(seq(digits), digits)]\n",
        "files_to_move <- rev(disk_long[disk_long == floor(disk_long)])\n",
        "empty_idx <- which(disk_long != floor(disk_long))\n",
        "disk_long[empty_idx] <- files_to_move[seq(empty_idx)]\n",
        "sum(disk_long[seq(files_to_move)] * (seq(files_to_move) - 1))\n",
        "\n",
        "# part 2\n",
        "blocks <- mapply(rep, times = digits, x = ifelse((!seq(digits) %% 2), -1, ids))\n",
        "free_space <- digits * (!seq(digits) %% 2)\n",
        "\n",
        "for (file_id in seq(length(blocks), 2, by = -1)) {\n",
        "  file <- blocks[[file_id]][blocks[[file_id]] != -1]\n",
        "\n",
        "  if (length(file) > 0) {\n",
        "    blocks[[file_id]][] <- -1\n",
        "    free_space[file_id] <- free_space[file_id] + length(file)\n",
        "    block <- which(free_space >= length(file))[1]\n",
        "\n",
        "    if (!is.na(block)) {\n",
        "      blocks[[block]][blocks[[block]] == -1][seq_along(file)] <- file\n",
        "      free_space[block] <- free_space[block] - length(file)\n",
        "    }\n",
        "  }\n",
        "}\n",
        "\n",
        "compact_blocks <- unlist(blocks[digits != 0])\n",
        "sum((compact_blocks * (compact_blocks > 0)) * (seq(compact_blocks) - 1))"
      ],
      "metadata": {
        "id": "HS8vpR2TbxtG"
      },
      "execution_count": null,
      "outputs": []
    },
    {
      "cell_type": "markdown",
      "source": [
        "## Day 10"
      ],
      "metadata": {
        "id": "MXBBaLy6_zuo"
      }
    },
    {
      "cell_type": "code",
      "source": [
        "input <- readLines(get_data('day_10'))\n",
        "topo_map <- do.call(rbind, lapply(strsplit(input, ''), as.integer))\n",
        "height <- nrow(topo_map)\n",
        "width <- ncol(topo_map)\n",
        "trailheads <- which(topo_map == 0, arr.ind = TRUE)\n",
        "moves <- list(up = c(-1, 0), down = c(1, 0), left = c(0, -1), right = c(0, 1))\n",
        "\n",
        "explore_paths <- function(row, col, elevation, visited, end, path, paths) {\n",
        "  if (row <= 0 || row > height || col <= 0 || col > width ||\n",
        "      topo_map[row, col] != elevation || visited[row, col]) {\n",
        "    return(list(end = end, paths = paths))\n",
        "  }\n",
        "\n",
        "  path <- rbind(path, c(row, col))\n",
        "\n",
        "  if (elevation == 9) {\n",
        "    end <- unique(rbind(end, c(row, col)))\n",
        "    paths <- c(paths, list(path))\n",
        "    return(list(end = end, paths = paths))\n",
        "  }\n",
        "\n",
        "  visited[row, col] <- TRUE\n",
        "\n",
        "  result <- lapply(moves, function(move) {\n",
        "    explore_paths(row + move[1], col + move[2],\n",
        "                  elevation + 1, visited, end, path, paths)\n",
        "  })\n",
        "\n",
        "  end <- do.call(rbind, lapply(result, `[[`, 'end'))\n",
        "  paths <- do.call(c, lapply(result, `[[`, 'paths'))\n",
        "\n",
        "  visited[row, col] <- FALSE\n",
        "\n",
        "  return(list(end = unique(end), paths = paths))\n",
        "}\n",
        "\n",
        "visited <- matrix(FALSE, nrow = height, ncol = width)\n",
        "results <- apply(trailheads, 1, function(start) {\n",
        "  explore_paths(start[1], start[2], 0, visited,\n",
        "                end = matrix(nrow = 0, ncol = 2),\n",
        "                path = matrix(nrow = 0, ncol = 2),\n",
        "                paths = vector(mode = 'list'))\n",
        "})\n",
        "\n",
        "# part 1\n",
        "sum(sapply(results, function(res) nrow(res$end)))\n",
        "\n",
        "# part 2\n",
        "all_paths <- do.call(c, lapply(results, `[[`, 'paths'))\n",
        "length(unique(sapply(all_paths, function(path) {\n",
        "  paste(apply(path, 1, paste, collapse = ','), collapse = ';')\n",
        "})))"
      ],
      "metadata": {
        "id": "2Wxe_VR9_1Od"
      },
      "execution_count": null,
      "outputs": []
    },
    {
      "cell_type": "markdown",
      "source": [
        "## Day 11"
      ],
      "metadata": {
        "id": "1Agp1eljiSnU"
      }
    },
    {
      "cell_type": "code",
      "source": [
        "transform_stone <- function(stone) {\n",
        "  chr <- as.character(stone)\n",
        "  if (stone == 0) {\n",
        "    return(1)\n",
        "  } else if (nchar(chr) %% 2 == 0) {\n",
        "    return(\n",
        "      c(\n",
        "        as.numeric(substr(chr, 1, nchar(chr) / 2)),\n",
        "        as.numeric(substr(chr, nchar(chr) / 2 + 1, nchar(chr)))\n",
        "      )\n",
        "    )\n",
        "  } else {\n",
        "    return(stone * 2024)\n",
        "  }\n",
        "}\n",
        "\n",
        "blink <- function(stones, times) {\n",
        "  tbl <- table(stones)\n",
        "\n",
        "  for (i in seq(times)) {\n",
        "    tmp <- unlist(lapply(names(tbl), function(idx) {\n",
        "      count <- tbl[idx]\n",
        "      new_stones <- transform_stone(as.numeric(idx))\n",
        "      rep(count, length(new_stones))\n",
        "    }), use.names = FALSE)\n",
        "\n",
        "    names(tmp) <- unlist(lapply(names(tbl), function(idx) {\n",
        "      new_stones <- transform_stone(as.numeric(idx))\n",
        "      as.character(new_stones)\n",
        "    }))\n",
        "\n",
        "    tbl <- tapply(tmp, names(tmp), sum)\n",
        "  }\n",
        "  tbl\n",
        "}\n",
        "\n",
        "# part 1\n",
        "stones <- scan(get_data('day_11'), numeric())\n",
        "sum(blink(stones, 25))\n",
        "\n",
        "# part 2\n",
        "sum(blink(stones, 75))"
      ],
      "metadata": {
        "id": "8KpYEZgpiT6X"
      },
      "execution_count": null,
      "outputs": []
    },
    {
      "cell_type": "markdown",
      "source": [
        "## Day 12"
      ],
      "metadata": {
        "id": "A-BlUgCpnyeA"
      }
    },
    {
      "cell_type": "code",
      "source": [
        "input <- strsplit(readLines(get_data('day_12')), '')\n",
        "grid <- do.call(rbind, input)\n",
        "\n",
        "count_sides <- function(seen) {\n",
        "  pad <- rbind(FALSE, cbind(FALSE, seen, FALSE), FALSE)\n",
        "  count_sides <- function(seen) {\n",
        "    sides <- 0\n",
        "    for (i in seq(nrow(seen) - 1)) {\n",
        "      row1 <- seen[i, ]\n",
        "      row2 <- seen[i + 1, ]\n",
        "      sides <- sides + sum(diff(c(FALSE, row1 & !row2)) == 1) +\n",
        "        sum(diff(c(FALSE, row2 & !row1)) == 1)\n",
        "    }\n",
        "    sides\n",
        "  }\n",
        "  return(count_sides(pad) + count_sides(t(pad)))\n",
        "}\n",
        "\n",
        "block_price <- function(grid, coord, sides = FALSE) {\n",
        "  dir <- list(c(-1, 0), c(1, 0), c(0, -1), c(0, 1))\n",
        "  seen <- matrix(FALSE, nrow = nrow(grid), ncol = ncol(grid))\n",
        "  block <- grid[coord[1], coord[2]]\n",
        "  coords <- list(coord)\n",
        "  area <- perim <- 0\n",
        "\n",
        "  while (length(coords) > 0) {\n",
        "    idx <- matrix(coords[[1]], nrow = 1)\n",
        "    coords <- coords[-1]\n",
        "\n",
        "    if (any(idx <= 0) | any(idx > dim(grid))) {\n",
        "      perim <- perim + 1\n",
        "      next\n",
        "    }\n",
        "\n",
        "    if (grid[idx] != block) {\n",
        "      perim <- perim + 1\n",
        "      next\n",
        "    }\n",
        "\n",
        "    if (seen[idx]) {\n",
        "      next\n",
        "    } else {\n",
        "      seen[idx] <- TRUE\n",
        "    }\n",
        "\n",
        "    area <- area + 1\n",
        "    coords <- c(coords, lapply(dir, function(x) idx + x))\n",
        "  }\n",
        "\n",
        "  if (sides) {\n",
        "    perim <- count_sides(seen)\n",
        "  }\n",
        "\n",
        "  grid[seen] <- 'seen'\n",
        "  return(list(grid = grid, price = perim * area))\n",
        "}\n",
        "\n",
        "calculate_price <- function(grid, sides = FALSE) {\n",
        "  price <- 0\n",
        "  while (length(block_coord <- which(grid != 'seen', arr.ind = TRUE)) > 0) {\n",
        "    coord <- block_coord[1, , drop = FALSE]\n",
        "    block <- block_price(grid, coord, sides)\n",
        "    grid <- block$grid\n",
        "    price <- price + block$price\n",
        "  }\n",
        "  return(price)\n",
        "}\n",
        "\n",
        "# part 1\n",
        "calculate_price(grid, sides = FALSE)\n",
        "\n",
        "# part 2\n",
        "calculate_price(grid, sides = TRUE)"
      ],
      "metadata": {
        "id": "zGPPZIEzn1TX"
      },
      "execution_count": null,
      "outputs": []
    },
    {
      "cell_type": "markdown",
      "source": [
        "## Day 13"
      ],
      "metadata": {
        "id": "ZwaT6-JPbnFR"
      }
    },
    {
      "cell_type": "code",
      "source": [
        "input <- lapply(\n",
        "  strsplit(paste0(readLines(get_data('day_13')), collapse = '\\n'), '\\n\\n')[[1]],\n",
        "  function(x) as.numeric(unlist(regmatches(x, gregexpr('[+\\\\-]?\\\\d+', x))))\n",
        ")\n",
        "\n",
        "start_claw <- function(part2 = FALSE) {\n",
        "  sum(sapply(input, function(i) {\n",
        "    x <- matrix(i[1:4], 2)\n",
        "    y <- matrix(i[5:6], 2) + if (part2) 1e13 else 0\n",
        "    z <- solve(x, y)\n",
        "    if (all(x %*% round(z) == y) && all(z > 0) && (all(z <= 1e2) || part2))\n",
        "      sum(z * c(3, 1)) else 0\n",
        "  }))\n",
        "}\n",
        "\n",
        "# part 1\n",
        "start_claw()\n",
        "\n",
        "# part 2\n",
        "start_claw(part2 = TRUE)"
      ],
      "metadata": {
        "id": "Tce2WVfXbQrR"
      },
      "execution_count": null,
      "outputs": []
    },
    {
      "cell_type": "markdown",
      "source": [
        "## Day 14"
      ],
      "metadata": {
        "id": "j7BA8oq9txuE"
      }
    },
    {
      "cell_type": "code",
      "source": [
        "input <- readLines(get_data('day_14'))\n",
        "input <- lapply(regmatches(input, gregexpr('-?\\\\d+', input)), as.numeric)\n",
        "\n",
        "safety_val <- function(t) {\n",
        "  final_positions <- function(t) {\n",
        "    do.call(rbind, lapply(input, function(r) {\n",
        "      px <- r[1]; py <- r[2]; vx <- r[3]; vy <- r[4]\n",
        "      c((px + vx * t) %% 101, (py + vy * t) %% 103)\n",
        "    }))\n",
        "  }\n",
        "\n",
        "  prod(table(apply(final_positions(t), 1, function(xy) {\n",
        "    x <- xy[1]; y <- xy[2]; mx <- 101 %/% 2; my <- 103 %/% 2\n",
        "    if (x < mx && y < my) return(1)\n",
        "    if (x > mx && y < my) return(2)\n",
        "    if (x < mx && y > my) return(3)\n",
        "    if (x > mx && y > my) return(4)\n",
        "    return(NA)\n",
        "  })))\n",
        "}\n",
        "\n",
        "# part 1\n",
        "safety_val(100)\n",
        "\n",
        "# part 2\n",
        "which.min(sapply(seq.int(1, 1e4), function(t) safety_val(t)))"
      ],
      "metadata": {
        "id": "o6Wi2e_MtxKE"
      },
      "execution_count": null,
      "outputs": []
    }
  ]
}