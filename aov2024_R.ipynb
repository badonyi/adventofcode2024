{
  "nbformat": 4,
  "nbformat_minor": 0,
  "metadata": {
    "colab": {
      "private_outputs": true,
      "provenance": [],
      "authorship_tag": "ABX9TyNmSdV744bIqUpfqJ9G8IE9",
      "include_colab_link": true
    },
    "kernelspec": {
      "name": "ir",
      "display_name": "R"
    },
    "language_info": {
      "name": "R"
    }
  },
  "cells": [
    {
      "cell_type": "markdown",
      "metadata": {
        "id": "view-in-github",
        "colab_type": "text"
      },
      "source": [
        "<a href=\"https://colab.research.google.com/github/badonyi/adventofcode2024/blob/main/aov2024_R.ipynb\" target=\"_parent\"><img src=\"https://colab.research.google.com/assets/colab-badge.svg\" alt=\"Open In Colab\"/></a>"
      ]
    },
    {
      "cell_type": "markdown",
      "source": [
        "## Run this chunk before any of the daily challenges"
      ],
      "metadata": {
        "id": "Lqf8ee64FRUS"
      }
    },
    {
      "cell_type": "code",
      "source": [
        "get_data <- function(x) sprintf('https://raw.githubusercontent.com/badonyi/adventofcode2024/refs/heads/main/data/%s.txt', x)"
      ],
      "metadata": {
        "id": "7LAZ4S2bFF4a"
      },
      "execution_count": null,
      "outputs": []
    },
    {
      "cell_type": "markdown",
      "source": [
        "## Day 1"
      ],
      "metadata": {
        "id": "EzaC6i_qDM04"
      }
    },
    {
      "cell_type": "code",
      "execution_count": null,
      "metadata": {
        "collapsed": true,
        "id": "iHbnLeSiDDwx"
      },
      "outputs": [],
      "source": [
        "input <- read.table(get_data('day_1'))\n",
        "\n",
        "# part 1\n",
        "sum(abs(sort(input$V1) - sort(input$V2)))\n",
        "\n",
        "# part 2\n",
        "sum(outer(input$V1, input$V2, `==`) * input$V1)"
      ]
    },
    {
      "cell_type": "markdown",
      "source": [
        "## Day 2"
      ],
      "metadata": {
        "id": "PMQmaLcoE64G"
      }
    },
    {
      "cell_type": "code",
      "source": [
        "input <- sapply(strsplit(readLines(get_data('day_2')), ' '), as.integer)\n",
        "\n",
        "# part 1\n",
        "sum(sapply(input, function(x) {\n",
        "  d <- diff(x); all(abs(d) < 4) && (all(d < 0) || all(d > 0))\n",
        "}))\n",
        "\n",
        "# part 2\n",
        "sum(sapply(input, function(x) {\n",
        "  any(sapply(seq_along(x), function(i) {\n",
        "    d <- diff(x[-i]); all(abs(d) < 4) && (all(d < 0) || all(d > 0))\n",
        "  }))\n",
        "}))\n"
      ],
      "metadata": {
        "id": "Mu_puCiUFAAZ"
      },
      "execution_count": null,
      "outputs": []
    },
    {
      "cell_type": "markdown",
      "source": [
        "## Day 3"
      ],
      "metadata": {
        "id": "KpYpmSqoGG5q"
      }
    },
    {
      "cell_type": "code",
      "source": [
        "input <- paste(readLines(get_data('day_3')), collapse = '')\n",
        "\n",
        "mul_compute <- function(s) {\n",
        "  eval(parse(text = paste(\n",
        "    gsub(\n",
        "      'mul\\\\((\\\\d+),(\\\\d+)\\\\)',\n",
        "      '\\\\1*\\\\2',\n",
        "      regmatches(s, gregexpr('mul\\\\((\\\\d+),(\\\\d+)\\\\)', s))[[1]]\n",
        "    ),\n",
        "    collapse = '+'\n",
        "  )))\n",
        "}\n",
        "\n",
        "# part 1\n",
        "mul_compute(input)\n",
        "\n",
        "# part 2\n",
        "donts <- strsplit(input, \"don't\\\\(\\\\)\")[[1]]\n",
        "dos <- unlist(lapply(donts[-1], function(x) strsplit(x, 'do\\\\(\\\\)')[[1]][-1]))\n",
        "mul_compute(paste(c(donts[1], dos), collapse = ''))"
      ],
      "metadata": {
        "id": "fMpbw4I5GJYS"
      },
      "execution_count": null,
      "outputs": []
    },
    {
      "cell_type": "markdown",
      "source": [
        "## Day 4"
      ],
      "metadata": {
        "id": "36Lm9Pg3GQq5"
      }
    },
    {
      "cell_type": "code",
      "source": [
        "mat <- do.call(rbind, strsplit(readLines(get_data('day_4')), NULL))\n",
        "has_xmas <- function(x) paste(x, collapse = '') %in% c('XMAS', 'SAMX')\n",
        "\n",
        "# part 1\n",
        "n <- nrow(mat)\n",
        "count <- 0\n",
        "for (j in seq(n)) {\n",
        "  for (i in seq(n)) {\n",
        "    if (i <= n - 3) {\n",
        "      count <- count + has_xmas(mat[j, i:(i + 3)])\n",
        "      if (j < n - 2) count <- count + has_xmas(diag(mat[j:(j + 3), i:(i + 3)]))\n",
        "      if (j > 3) count <- count + has_xmas(diag(mat[j:(j - 3), i:(i + 3)]))\n",
        "    }\n",
        "    if (j < n - 2) count <- count + has_xmas(mat[j:(j + 3), i])\n",
        "  }\n",
        "}\n",
        "cat(count)\n",
        "\n",
        "# part 2\n",
        "sum(apply(\n",
        "  X = expand.grid(seq(n), seq(n)),\n",
        "  MARGIN = 1,\n",
        "  FUN = function(g) {\n",
        "    a <- g[1]\n",
        "    b <- g[2]\n",
        "    if (a > 1 && a < n && b > 1 && b <  n) {\n",
        "      return(as.numeric(\n",
        "        paste0(mat[a - 1, b - 1], mat[a - 1, b + 1],\n",
        "               mat[a, b], mat[a + 1, b - 1],\n",
        "               mat[a + 1, b + 1]) %in% c('SMASM', 'MSAMS', 'MMASS', 'SSAMM')))\n",
        "    }\n",
        "    return(0)\n",
        "  }\n",
        "))"
      ],
      "metadata": {
        "id": "_hAH6qsWGUn1"
      },
      "execution_count": null,
      "outputs": []
    },
    {
      "cell_type": "markdown",
      "source": [
        "## Day 5"
      ],
      "metadata": {
        "id": "kKg3O1tHIvHW"
      }
    },
    {
      "cell_type": "code",
      "source": [
        "input <- readLines(get_data('day_5'))\n",
        "sep <- which(input == '')\n",
        "updates <- strsplit(input[(sep + 1):length(input)], ',')\n",
        "pairs <- read.table(text = input[1:(sep - 1)], sep = '|')\n",
        "\n",
        "is_correct <- function(update, pairs) {\n",
        "  for (i in 1:nrow(pairs)) {\n",
        "    if (pairs$V1[i] %in% update && pairs$V2[i] %in% update) {\n",
        "      if (which(update == pairs$V1[i]) > which(update == pairs$V2[i])) {\n",
        "        return(FALSE)\n",
        "      }\n",
        "    }\n",
        "  }\n",
        "  return(TRUE)\n",
        "}\n",
        "\n",
        "# part 1\n",
        "sum(sapply(updates[sapply(updates, is_correct, pairs)],\n",
        "           function(x) as.numeric(x[ceiling(length(x) / 2)])))\n",
        "\n",
        "# part 2\n",
        "correct_order <- function(update, pairs) {\n",
        "  swap <- TRUE\n",
        "  while (swap) {\n",
        "    swap <- FALSE\n",
        "    for (i in 1:nrow(pairs)) {\n",
        "      if (pairs$V1[i] %in% update && pairs$V2[i] %in% update) {\n",
        "        b_index <- which(update == pairs$V1[i])\n",
        "        a_index <- which(update == pairs$V2[i])\n",
        "        if (b_index > a_index) {\n",
        "          update[c(a_index, b_index)] <- update[c(b_index, a_index)]\n",
        "          swap <- TRUE\n",
        "        }\n",
        "      }\n",
        "    }\n",
        "  }\n",
        "  return(update)\n",
        "}\n",
        "\n",
        "updates_wrong <- updates[!sapply(updates, is_correct, pairs)]\n",
        "updates_right <- lapply(updates_wrong, correct_order, pairs)\n",
        "sum(sapply(updates_right, function(x) as.numeric(x[ceiling(length(x) / 2)])))"
      ],
      "metadata": {
        "id": "v4ex8k-qIwc1"
      },
      "execution_count": null,
      "outputs": []
    },
    {
      "cell_type": "markdown",
      "source": [
        "## Day 6"
      ],
      "metadata": {
        "id": "DaC-TtxDiIWE"
      }
    },
    {
      "cell_type": "code",
      "source": [
        "lab_map <- do.call(rbind, strsplit(readLines(get_data('day_6')), NULL))\n",
        "nrows <- nrow(lab_map)\n",
        "ncols <- ncol(lab_map)\n",
        "\n",
        "directions <- c('up', 'right', 'down', 'left')\n",
        "deltas <- list(up = c(-1L, 0L), right = c(0L, 1L), down = c(1L, 0L), left = c(0L, -1L))\n",
        "dir_symbol <- c('^', '>', 'v', '<')\n",
        "\n",
        "guard_start <- arrayInd(which(lab_map %in% dir_symbol), .dim = dim(lab_map))\n",
        "guard_initial_pos <- c(guard_start[1], guard_start[2])\n",
        "guard_initial_dir <- directions[match(lab_map[guard_initial_pos[1], guard_initial_pos[2]], dir_symbol)]\n",
        "\n",
        "# part 1\n",
        "visited <- matrix(FALSE, nrow = nrows, ncol = ncols)\n",
        "visited[guard_initial_pos[1], guard_initial_pos[2]] <- TRUE\n",
        "\n",
        "guard_pos <- guard_initial_pos\n",
        "guard_dir <- guard_initial_dir\n",
        "while (TRUE) {\n",
        "  next_pos <- guard_pos + deltas[[guard_dir]]\n",
        "  if (next_pos[1] < 1 || next_pos[1] > nrows || next_pos[2] < 1 || next_pos[2] > ncols) {\n",
        "    break\n",
        "  }\n",
        "  if (lab_map[next_pos[1], next_pos[2]] == '#') {\n",
        "    guard_dir <- directions[(match(guard_dir, directions) %% 4) + 1]\n",
        "  } else {\n",
        "    guard_pos <- next_pos\n",
        "    visited[guard_pos[1], guard_pos[2]] <- TRUE\n",
        "  }\n",
        "}\n",
        "cat(sum(visited), '\\n')\n",
        "\n",
        "# part 2\n",
        "simulate_with_loop <- function(map) {\n",
        "  guard_pos <- guard_initial_pos\n",
        "  guard_dir <- guard_initial_dir\n",
        "\n",
        "  visited_states <- new.env(hash = TRUE, parent = emptyenv(), size = 1000L)\n",
        "  while (TRUE) {\n",
        "    state <- (guard_pos[1] - 1L) * ncols + guard_pos[2] +\n",
        "             (match(guard_dir, directions) - 1L) * nrows * ncols\n",
        "    if (exists(as.character(state), envir = visited_states)) return(TRUE)\n",
        "    assign(as.character(state), TRUE, envir = visited_states)\n",
        "\n",
        "    next_pos <- guard_pos + deltas[[guard_dir]]\n",
        "    if (any(next_pos < 1L) || next_pos[1] > nrows || next_pos[2] > ncols) return(FALSE)\n",
        "\n",
        "    if (map[next_pos[1], next_pos[2]] == '#') {\n",
        "      current_index <- match(guard_dir, directions)\n",
        "      guard_dir <- directions[(current_index %% 4L) + 1L]\n",
        "    } else {\n",
        "      guard_pos <- next_pos\n",
        "    }\n",
        "  }\n",
        "}\n",
        "\n",
        "empty_spots <- which(lab_map == '.', arr.ind = TRUE)\n",
        "total_spots <- nrow(empty_spots)\n",
        "loop_count <- 0\n",
        "pb <- txtProgressBar(min = 0, max = total_spots, style = 3)\n",
        "on.exit(close(pb))\n",
        "for (i in seq_len(total_spots)) {\n",
        "  lab_map[empty_spots[i, 1], empty_spots[i, 2]] <- '#'\n",
        "  if (simulate_with_loop(lab_map)) loop_count <- loop_count + 1\n",
        "  lab_map[empty_spots[i, 1], empty_spots[i, 2]] <- '.'\n",
        "  setTxtProgressBar(pb, i)\n",
        "}\n",
        "cat('\\n', loop_count)"
      ],
      "metadata": {
        "id": "AFd2JoD-iK08"
      },
      "execution_count": null,
      "outputs": []
    }
  ]
}