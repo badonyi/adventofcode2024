{
  "nbformat": 4,
  "nbformat_minor": 0,
  "metadata": {
    "colab": {
      "private_outputs": true,
      "provenance": [],
      "authorship_tag": "ABX9TyP1uEo+jfPR9HkwAUZf2BXl",
      "include_colab_link": true
    },
    "kernelspec": {
      "name": "ir",
      "display_name": "R"
    },
    "language_info": {
      "name": "R"
    }
  },
  "cells": [
    {
      "cell_type": "markdown",
      "metadata": {
        "id": "view-in-github",
        "colab_type": "text"
      },
      "source": [
        "<a href=\"https://colab.research.google.com/github/badonyi/adventofcode2024/blob/main/aov2024_R.ipynb\" target=\"_parent\"><img src=\"https://colab.research.google.com/assets/colab-badge.svg\" alt=\"Open In Colab\"/></a>"
      ]
    },
    {
      "cell_type": "markdown",
      "source": [
        "## Run this chunk before any of the daily challenges"
      ],
      "metadata": {
        "id": "Lqf8ee64FRUS"
      }
    },
    {
      "cell_type": "code",
      "source": [
        "get_data <- function(x) sprintf('https://raw.githubusercontent.com/badonyi/adventofcode2024/refs/heads/main/data/%s.txt', x)"
      ],
      "metadata": {
        "id": "7LAZ4S2bFF4a"
      },
      "execution_count": null,
      "outputs": []
    },
    {
      "cell_type": "markdown",
      "source": [
        "## Day 1"
      ],
      "metadata": {
        "id": "EzaC6i_qDM04"
      }
    },
    {
      "cell_type": "code",
      "execution_count": null,
      "metadata": {
        "collapsed": true,
        "id": "iHbnLeSiDDwx"
      },
      "outputs": [],
      "source": [
        "input <- read.table(get_data('day_1'))\n",
        "\n",
        "# part 1\n",
        "sum(abs(sort(input$V1) - sort(input$V2)))\n",
        "\n",
        "# part 2\n",
        "sum(outer(input$V1, input$V2, `==`) * input$V1)"
      ]
    },
    {
      "cell_type": "markdown",
      "source": [
        "## Day 2"
      ],
      "metadata": {
        "id": "PMQmaLcoE64G"
      }
    },
    {
      "cell_type": "code",
      "source": [
        "input <- sapply(strsplit(readLines(get_data('day_2')), ' '), as.integer)\n",
        "\n",
        "# part 1\n",
        "sum(sapply(input, function(x) {\n",
        "  d <- diff(x); all(abs(d) < 4) && (all(d < 0) || all(d > 0))\n",
        "}))\n",
        "\n",
        "# part 2\n",
        "sum(sapply(input, function(x) {\n",
        "  any(sapply(seq_along(x), function(i) {\n",
        "    d <- diff(x[-i]); all(abs(d) < 4) && (all(d < 0) || all(d > 0))\n",
        "  }))\n",
        "}))\n"
      ],
      "metadata": {
        "id": "Mu_puCiUFAAZ"
      },
      "execution_count": null,
      "outputs": []
    },
    {
      "cell_type": "markdown",
      "source": [
        "## Day 3"
      ],
      "metadata": {
        "id": "KpYpmSqoGG5q"
      }
    },
    {
      "cell_type": "code",
      "source": [
        "input <- paste(readLines(get_data('day_3')), collapse = '')\n",
        "\n",
        "mul_compute <- function(s) {\n",
        "  eval(parse(text = paste(\n",
        "    gsub(\n",
        "      'mul\\\\((\\\\d+),(\\\\d+)\\\\)',\n",
        "      '\\\\1*\\\\2',\n",
        "      regmatches(s, gregexpr('mul\\\\((\\\\d+),(\\\\d+)\\\\)', s))[[1]]\n",
        "    ),\n",
        "    collapse = '+'\n",
        "  )))\n",
        "}\n",
        "\n",
        "# part 1\n",
        "mul_compute(input)\n",
        "\n",
        "# part 2\n",
        "donts <- strsplit(input, \"don't\\\\(\\\\)\")[[1]]\n",
        "dos <- unlist(lapply(donts[-1], function(x) strsplit(x, 'do\\\\(\\\\)')[[1]][-1]))\n",
        "mul_compute(paste(c(donts[1], dos), collapse = ''))"
      ],
      "metadata": {
        "id": "fMpbw4I5GJYS"
      },
      "execution_count": null,
      "outputs": []
    },
    {
      "cell_type": "markdown",
      "source": [
        "## Day 4"
      ],
      "metadata": {
        "id": "36Lm9Pg3GQq5"
      }
    },
    {
      "cell_type": "code",
      "source": [
        "mat <- do.call(rbind, strsplit(readLines(get_data('day_4')), NULL))\n",
        "has_xmas <- function(x) paste(x, collapse = '') %in% c('XMAS', 'SAMX')\n",
        "\n",
        "# part 1\n",
        "n <- nrow(mat)\n",
        "count <- 0\n",
        "for (j in seq(n)) {\n",
        "  for (i in seq(n)) {\n",
        "    if (i <= n - 3) {\n",
        "      count <- count + has_xmas(mat[j, i:(i + 3)])\n",
        "      if (j < n - 2) count <- count + has_xmas(diag(mat[j:(j + 3), i:(i + 3)]))\n",
        "      if (j > 3) count <- count + has_xmas(diag(mat[j:(j - 3), i:(i + 3)]))\n",
        "    }\n",
        "    if (j < n - 2) count <- count + has_xmas(mat[j:(j + 3), i])\n",
        "  }\n",
        "}\n",
        "cat(count)\n",
        "\n",
        "# part 2\n",
        "sum(apply(\n",
        "  X = expand.grid(seq(n), seq(n)),\n",
        "  MARGIN = 1,\n",
        "  FUN = function(g) {\n",
        "    a <- g[1]\n",
        "    b <- g[2]\n",
        "    if (a > 1 && a < n && b > 1 && b <  n) {\n",
        "      return(as.numeric(\n",
        "        paste0(mat[a - 1, b - 1], mat[a - 1, b + 1],\n",
        "               mat[a, b], mat[a + 1, b - 1],\n",
        "               mat[a + 1, b + 1]) %in% c('SMASM', 'MSAMS', 'MMASS', 'SSAMM')))\n",
        "    }\n",
        "    return(0)\n",
        "  }\n",
        "))"
      ],
      "metadata": {
        "id": "_hAH6qsWGUn1"
      },
      "execution_count": null,
      "outputs": []
    }
  ]
}